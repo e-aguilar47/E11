{
 "cells": [
  {
   "cell_type": "code",
   "execution_count": 10,
   "id": "576ecf08-a68e-4232-8e77-66296d649a5e",
   "metadata": {
    "tags": []
   },
   "outputs": [],
   "source": [
    "import pandas as pd\n",
    "df=pd.read_csv('aq_data.csv')\n",
    "import numpy as np\n",
    "import matplotlib.pyplot as plt"
   ]
  },
  {
   "cell_type": "code",
   "execution_count": 18,
   "id": "7d5c93e7-166e-4db9-9c91-6b4a5e0e343a",
   "metadata": {
    "tags": []
   },
   "outputs": [
    {
     "name": "stdout",
     "output_type": "stream",
     "text": [
      "            time  pm10 standard  pm25 standard  pm100 standard\n",
      "0   1.707522e+09              1              2               4\n",
      "1   1.707522e+09              1              2               4\n",
      "2   1.707522e+09              1              2               4\n",
      "3   1.707522e+09              1              2               4\n",
      "4   1.707522e+09              1              2               4\n",
      "5   1.707522e+09              1              2               4\n",
      "6   1.707522e+09              1              2               4\n",
      "7   1.707522e+09              1              2               4\n",
      "8   1.707522e+09              0              2               4\n",
      "9   1.707522e+09              0              2               4\n",
      "10  1.707522e+09              0              2               4\n",
      "11  1.707522e+09              1              2               4\n",
      "12  1.707522e+09              1              2               4\n",
      "13  1.707522e+09              1              2               4\n",
      "14  1.707522e+09              1              2               5\n",
      "15  1.707522e+09              1              2               5\n",
      "16  1.707522e+09              1              2               5\n",
      "17  1.707522e+09              1              2               5\n",
      "18  1.707522e+09              1              2               5\n",
      "19  1.707522e+09              1              2               5\n",
      "20  1.707522e+09              1              2               5\n",
      "21  1.707522e+09              1              2               5\n",
      "22  1.707522e+09              1              2               5\n",
      "23  1.707522e+09              1              2               4\n",
      "24  1.707522e+09              1              2               4\n",
      "25  1.707522e+09              1              2               4\n",
      "26  1.707522e+09              1              2               4\n",
      "27  1.707522e+09              1              2               4\n",
      "28  1.707522e+09              1              2               4\n",
      "29  1.707522e+09              1              2               4\n"
     ]
    }
   ],
   "source": [
    "print(df)"
   ]
  },
  {
   "cell_type": "code",
   "execution_count": 44,
   "id": "9f621a22-6372-4d9a-bde6-ab5447871e90",
   "metadata": {
    "tags": []
   },
   "outputs": [
    {
     "data": {
      "text/html": [
       "<div>\n",
       "<style scoped>\n",
       "    .dataframe tbody tr th:only-of-type {\n",
       "        vertical-align: middle;\n",
       "    }\n",
       "\n",
       "    .dataframe tbody tr th {\n",
       "        vertical-align: top;\n",
       "    }\n",
       "\n",
       "    .dataframe thead th {\n",
       "        text-align: right;\n",
       "    }\n",
       "</style>\n",
       "<table border=\"1\" class=\"dataframe\">\n",
       "  <thead>\n",
       "    <tr style=\"text-align: right;\">\n",
       "      <th></th>\n",
       "      <th>time</th>\n",
       "      <th>pm10 standard</th>\n",
       "      <th>pm25 standard</th>\n",
       "    </tr>\n",
       "  </thead>\n",
       "  <tbody>\n",
       "    <tr>\n",
       "      <th>0</th>\n",
       "      <td>1.707522e+09</td>\n",
       "      <td>1</td>\n",
       "      <td>2</td>\n",
       "    </tr>\n",
       "    <tr>\n",
       "      <th>1</th>\n",
       "      <td>1.707522e+09</td>\n",
       "      <td>1</td>\n",
       "      <td>2</td>\n",
       "    </tr>\n",
       "    <tr>\n",
       "      <th>2</th>\n",
       "      <td>1.707522e+09</td>\n",
       "      <td>1</td>\n",
       "      <td>2</td>\n",
       "    </tr>\n",
       "    <tr>\n",
       "      <th>3</th>\n",
       "      <td>1.707522e+09</td>\n",
       "      <td>1</td>\n",
       "      <td>2</td>\n",
       "    </tr>\n",
       "    <tr>\n",
       "      <th>4</th>\n",
       "      <td>1.707522e+09</td>\n",
       "      <td>1</td>\n",
       "      <td>2</td>\n",
       "    </tr>\n",
       "    <tr>\n",
       "      <th>5</th>\n",
       "      <td>1.707522e+09</td>\n",
       "      <td>1</td>\n",
       "      <td>2</td>\n",
       "    </tr>\n",
       "    <tr>\n",
       "      <th>6</th>\n",
       "      <td>1.707522e+09</td>\n",
       "      <td>1</td>\n",
       "      <td>2</td>\n",
       "    </tr>\n",
       "    <tr>\n",
       "      <th>7</th>\n",
       "      <td>1.707522e+09</td>\n",
       "      <td>1</td>\n",
       "      <td>2</td>\n",
       "    </tr>\n",
       "    <tr>\n",
       "      <th>8</th>\n",
       "      <td>1.707522e+09</td>\n",
       "      <td>0</td>\n",
       "      <td>2</td>\n",
       "    </tr>\n",
       "    <tr>\n",
       "      <th>9</th>\n",
       "      <td>1.707522e+09</td>\n",
       "      <td>0</td>\n",
       "      <td>2</td>\n",
       "    </tr>\n",
       "    <tr>\n",
       "      <th>10</th>\n",
       "      <td>1.707522e+09</td>\n",
       "      <td>0</td>\n",
       "      <td>2</td>\n",
       "    </tr>\n",
       "    <tr>\n",
       "      <th>11</th>\n",
       "      <td>1.707522e+09</td>\n",
       "      <td>1</td>\n",
       "      <td>2</td>\n",
       "    </tr>\n",
       "    <tr>\n",
       "      <th>12</th>\n",
       "      <td>1.707522e+09</td>\n",
       "      <td>1</td>\n",
       "      <td>2</td>\n",
       "    </tr>\n",
       "    <tr>\n",
       "      <th>13</th>\n",
       "      <td>1.707522e+09</td>\n",
       "      <td>1</td>\n",
       "      <td>2</td>\n",
       "    </tr>\n",
       "    <tr>\n",
       "      <th>14</th>\n",
       "      <td>1.707522e+09</td>\n",
       "      <td>1</td>\n",
       "      <td>2</td>\n",
       "    </tr>\n",
       "    <tr>\n",
       "      <th>15</th>\n",
       "      <td>1.707522e+09</td>\n",
       "      <td>1</td>\n",
       "      <td>2</td>\n",
       "    </tr>\n",
       "    <tr>\n",
       "      <th>16</th>\n",
       "      <td>1.707522e+09</td>\n",
       "      <td>1</td>\n",
       "      <td>2</td>\n",
       "    </tr>\n",
       "    <tr>\n",
       "      <th>17</th>\n",
       "      <td>1.707522e+09</td>\n",
       "      <td>1</td>\n",
       "      <td>2</td>\n",
       "    </tr>\n",
       "    <tr>\n",
       "      <th>18</th>\n",
       "      <td>1.707522e+09</td>\n",
       "      <td>1</td>\n",
       "      <td>2</td>\n",
       "    </tr>\n",
       "    <tr>\n",
       "      <th>19</th>\n",
       "      <td>1.707522e+09</td>\n",
       "      <td>1</td>\n",
       "      <td>2</td>\n",
       "    </tr>\n",
       "    <tr>\n",
       "      <th>20</th>\n",
       "      <td>1.707522e+09</td>\n",
       "      <td>1</td>\n",
       "      <td>2</td>\n",
       "    </tr>\n",
       "    <tr>\n",
       "      <th>21</th>\n",
       "      <td>1.707522e+09</td>\n",
       "      <td>1</td>\n",
       "      <td>2</td>\n",
       "    </tr>\n",
       "    <tr>\n",
       "      <th>22</th>\n",
       "      <td>1.707522e+09</td>\n",
       "      <td>1</td>\n",
       "      <td>2</td>\n",
       "    </tr>\n",
       "    <tr>\n",
       "      <th>23</th>\n",
       "      <td>1.707522e+09</td>\n",
       "      <td>1</td>\n",
       "      <td>2</td>\n",
       "    </tr>\n",
       "    <tr>\n",
       "      <th>24</th>\n",
       "      <td>1.707522e+09</td>\n",
       "      <td>1</td>\n",
       "      <td>2</td>\n",
       "    </tr>\n",
       "    <tr>\n",
       "      <th>25</th>\n",
       "      <td>1.707522e+09</td>\n",
       "      <td>1</td>\n",
       "      <td>2</td>\n",
       "    </tr>\n",
       "    <tr>\n",
       "      <th>26</th>\n",
       "      <td>1.707522e+09</td>\n",
       "      <td>1</td>\n",
       "      <td>2</td>\n",
       "    </tr>\n",
       "    <tr>\n",
       "      <th>27</th>\n",
       "      <td>1.707522e+09</td>\n",
       "      <td>1</td>\n",
       "      <td>2</td>\n",
       "    </tr>\n",
       "    <tr>\n",
       "      <th>28</th>\n",
       "      <td>1.707522e+09</td>\n",
       "      <td>1</td>\n",
       "      <td>2</td>\n",
       "    </tr>\n",
       "    <tr>\n",
       "      <th>29</th>\n",
       "      <td>1.707522e+09</td>\n",
       "      <td>1</td>\n",
       "      <td>2</td>\n",
       "    </tr>\n",
       "  </tbody>\n",
       "</table>\n",
       "</div>"
      ],
      "text/plain": [
       "            time  pm10 standard  pm25 standard\n",
       "0   1.707522e+09              1              2\n",
       "1   1.707522e+09              1              2\n",
       "2   1.707522e+09              1              2\n",
       "3   1.707522e+09              1              2\n",
       "4   1.707522e+09              1              2\n",
       "5   1.707522e+09              1              2\n",
       "6   1.707522e+09              1              2\n",
       "7   1.707522e+09              1              2\n",
       "8   1.707522e+09              0              2\n",
       "9   1.707522e+09              0              2\n",
       "10  1.707522e+09              0              2\n",
       "11  1.707522e+09              1              2\n",
       "12  1.707522e+09              1              2\n",
       "13  1.707522e+09              1              2\n",
       "14  1.707522e+09              1              2\n",
       "15  1.707522e+09              1              2\n",
       "16  1.707522e+09              1              2\n",
       "17  1.707522e+09              1              2\n",
       "18  1.707522e+09              1              2\n",
       "19  1.707522e+09              1              2\n",
       "20  1.707522e+09              1              2\n",
       "21  1.707522e+09              1              2\n",
       "22  1.707522e+09              1              2\n",
       "23  1.707522e+09              1              2\n",
       "24  1.707522e+09              1              2\n",
       "25  1.707522e+09              1              2\n",
       "26  1.707522e+09              1              2\n",
       "27  1.707522e+09              1              2\n",
       "28  1.707522e+09              1              2\n",
       "29  1.707522e+09              1              2"
      ]
     },
     "execution_count": 44,
     "metadata": {},
     "output_type": "execute_result"
    }
   ],
   "source": [
    "data_pm_25=df.loc[:,'time':'pm25 standard']\n",
    "data_pm_25"
   ]
  },
  {
   "cell_type": "code",
   "execution_count": 48,
   "id": "6c28f986-245a-4e8f-9721-9c7ac43b4705",
   "metadata": {
    "tags": []
   },
   "outputs": [
    {
     "data": {
      "text/plain": [
       "[<matplotlib.lines.Line2D at 0x2c413bcf9d0>]"
      ]
     },
     "execution_count": 48,
     "metadata": {},
     "output_type": "execute_result"
    },
    {
     "data": {
      "image/png": "[encoded data removed]",
      "text/plain": [
       "<Figure size 640x480 with 1 Axes>"
      ]
     },
     "metadata": {},
     "output_type": "display_data"
    }
   ],
   "source": [
    "plt.plot(data_pm_25['pm25 standard'])"
   ]
  },
  {
   "cell_type": "code",
   "execution_count": 58,
   "id": "d5ba8124-fb81-4328-b04d-e8f0272f0e97",
   "metadata": {
    "tags": []
   },
   "outputs": [
    {
     "data": {
      "text/plain": [
       "(array([ 0.,  0.,  0.,  0.,  0.,  0.,  0.,  0.,  0.,  0.,  0.,  0.,  0.,\n",
       "         0.,  0.,  0.,  0.,  0.,  0.,  0.,  0.,  0.,  0.,  0.,  0., 30.,\n",
       "         0.,  0.,  0.,  0.,  0.,  0.,  0.,  0.,  0.,  0.,  0.,  0.,  0.,\n",
       "         0.,  0.,  0.,  0.,  0.,  0.,  0.,  0.,  0.,  0.,  0.]),\n",
       " array([1.5 , 1.52, 1.54, 1.56, 1.58, 1.6 , 1.62, 1.64, 1.66, 1.68, 1.7 ,\n",
       "        1.72, 1.74, 1.76, 1.78, 1.8 , 1.82, 1.84, 1.86, 1.88, 1.9 , 1.92,\n",
       "        1.94, 1.96, 1.98, 2.  , 2.02, 2.04, 2.06, 2.08, 2.1 , 2.12, 2.14,\n",
       "        2.16, 2.18, 2.2 , 2.22, 2.24, 2.26, 2.28, 2.3 , 2.32, 2.34, 2.36,\n",
       "        2.38, 2.4 , 2.42, 2.44, 2.46, 2.48, 2.5 ]),\n",
       " <BarContainer object of 50 artists>)"
      ]
     },
     "execution_count": 58,
     "metadata": {},
     "output_type": "execute_result"
    },
    {
     "data": {
      "image/png": "[encoded data removed]",
      "text/plain": [
       "<Figure size 640x480 with 1 Axes>"
      ]
     },
     "metadata": {},
     "output_type": "display_data"
    }
   ],
   "source": [
    "plt.hist(data_pm_25['pm25 standard'],bins=50)"
   ]
  }
 ],
 "metadata": {
  "kernelspec": {
   "display_name": "Python 3 (ipykernel)",
   "language": "python",
   "name": "python3"
  },
  "language_info": {
   "codemirror_mode": {
    "name": "ipython",
    "version": 3
   },
   "file_extension": ".py",
   "mimetype": "text/x-python",
   "name": "python",
   "nbconvert_exporter": "python",
   "pygments_lexer": "ipython3",
   "version": "3.11.5"
  }
 },
 "nbformat": 4,
 "nbformat_minor": 5
}
